{
 "cells": [
  {
   "cell_type": "markdown",
   "metadata": {},
   "source": [
    "**0) With the input() function, enter your first and last name, separated by a space."
   ]
  },
  {
   "cell_type": "markdown",
   "metadata": {},
   "source": [
    "**1) Write an expression equal to 65. For example: 50 + 15; 72-7; 10 * 6 + 5 and. etc. Try using more arithmetic operators."
   ]
  },
  {
   "cell_type": "markdown",
   "metadata": {},
   "source": [
    "**2) Write an equation that uses multiplication, division, exponent, addition, and subtraction equal to 70.25"
   ]
  },
  {
   "cell_type": "markdown",
   "metadata": {},
   "source": [
    "**3) What type is the result of the expression 3 + 1.5 + 4?"
   ]
  },
  {
   "cell_type": "markdown",
   "metadata": {},
   "source": [
    "**4) What would you use to find the square root of a number as well as its square? Give examples."
   ]
  },
  {
   "cell_type": "markdown",
   "metadata": {},
   "source": [
    "**5) What remainder does 100 give when divided by 7?"
   ]
  },
  {
   "cell_type": "markdown",
   "metadata": {},
   "source": [
    "**6) 7 to the 3rd power?"
   ]
  },
  {
   "cell_type": "markdown",
   "metadata": {},
   "source": [
    "**7) Read two integers and print three lines, where:\n",
    "\n",
    "a) The first line contains the sum of two numbers.\n",
    "b) The second line contains the difference between two numbers.\n",
    "c) The third line contains the product of two numbers."
   ]
  },
  {
   "cell_type": "markdown",
   "metadata": {},
   "source": [
    "**8) Read two integers and print two lines.\n",
    "\n",
    "a) The first line must contain an integer division\n",
    "b) The second line must contain a floating point division"
   ]
  },
  {
   "cell_type": "markdown",
   "metadata": {},
   "source": [
    "**9) The popular series \"Lost\" used the number sequence 4 8 15 16 23 42, which brought good luck to the characters \n",
    "and helped them hit the lottery jackpot. \n",
    "Write a program that prints a given sequence of numbers with one space between them. "
   ]
  },
  {
   "cell_type": "markdown",
   "metadata": {},
   "source": [
    "**10) Modify the previous program so that each number in the sequence 4 8 15 16 23 42 was printed on a separate line."
   ]
  },
  {
   "cell_type": "markdown",
   "metadata": {},
   "source": [
    "**11) Write a program that prints the given triangle consisting of asterisks (*).\n",
    "*\n",
    "**\n",
    "***\n",
    "****\n",
    "*****\n",
    "******\n",
    "*******"
   ]
  },
  {
   "cell_type": "markdown",
   "metadata": {},
   "source": [
    "**12) The input to the program is a string of text – the person’s name. Write a program that displays a greeting on the screen using the word \"Hello\" (without quotes), followed by a comma and a space, followed by the name entered.\n",
    "\n",
    "Input format\n",
    "The program is given one line as input—the person’s name. (Timur)\n",
    "\n",
    "Output format\n",
    "The program must display the text in accordance with the conditions of the task. (Hello, Timur)\n"
   ]
  },
  {
   "cell_type": "markdown",
   "metadata": {},
   "source": [
    "**13) The input to the program is a string of text - the name of the football team. Write a program that repeats \n",
    "it on the screen with the words “- champion!” (without quotes).\n",
    "\n",
    "Input format\n",
    "The program is given the name of the football team as input. (Barcelona)\n",
    "\n",
    "Output format\n",
    "The program must output the text according to the conditions of the task. (Barcelona - champion!)"
   ]
  },
  {
   "cell_type": "markdown",
   "metadata": {},
   "source": [
    "**14) \n",
    "Input format\n",
    "The program is given three lines as input, each on a separate line.\n",
    "\n",
    "Output format\n",
    "The program should output the entered lines in the same sequence, each on a separate line.\n",
    "\n",
    "Sample Input:\n",
    "I love\n",
    "Python\n",
    "so much\n",
    "\n",
    "Sample Output 2:\n",
    "I love\n",
    "Python\n",
    "so much"
   ]
  },
  {
   "cell_type": "markdown",
   "metadata": {},
   "source": [
    "**15) \n",
    "\n",
    "Sample Input 1:\n",
    "Hello\n",
    "it's\n",
    "me\n",
    "\n",
    "Sample Output 1:\n",
    "me\n",
    "it's\n",
    "Hello"
   ]
  },
  {
   "cell_type": "markdown",
   "metadata": {},
   "source": [
    "**16) Write a program that displays the text “I***like***Python” (without the quotes)."
   ]
  },
  {
   "cell_type": "markdown",
   "metadata": {},
   "source": [
    "**17) \n",
    "Sample Input:\n",
    "##\n",
    "Money often\n",
    "costs\n",
    "too much\n",
    "\n",
    "Sample Output 2:\n",
    "Money often##costs##too much"
   ]
  },
  {
   "cell_type": "markdown",
   "metadata": {},
   "source": [
    "**18)\n",
    "Sample Input 1:\n",
    "8\n",
    "\n",
    "Sample Output 1:\n",
    "8\n",
    "9\n",
    "10\n",
    "\n",
    "Sample Input 2:\n",
    "-341\n",
    "\n",
    "Sample Output 2:\n",
    "-341\n",
    "-340\n",
    "-339"
   ]
  },
  {
   "cell_type": "markdown",
   "metadata": {},
   "source": [
    "**19)\n",
    "\n",
    "Sample Input 1:\n",
    "9\n",
    "11\n",
    "2\n",
    "Sample Output 1:\n",
    "22\n",
    "\n",
    "Sample Input 2:\n",
    "-1\n",
    "10\n",
    "1\n",
    "Sample Output 2:\n",
    "10\n",
    "\n",
    "Sample Input 3:\n",
    "-7\n",
    "-10\n",
    "-3\n",
    "Sample Output 3:\n",
    "-20"
   ]
  },
  {
   "cell_type": "markdown",
   "metadata": {},
   "source": [
    "**20)\n",
    "\n",
    "Sample Input 1:\n",
    "7\n",
    "Sample Output 1:\n",
    "7---14---21---28---35\n",
    "\n",
    "Sample Input 2:\n",
    "1\n",
    "Sample Output 2:\n",
    "1---2---3---4---5"
   ]
  },
  {
   "cell_type": "markdown",
   "metadata": {},
   "source": [
    "**21) \n",
    "Sample Input 1:\n",
    "1\n",
    "1\n",
    "10\n",
    "Sample Output 1:\n",
    "10\n",
    "\n",
    "Sample Input 2:\n",
    "-1\n",
    "1\n",
    "2\n",
    "Sample Output 2:\n",
    "0"
   ]
  },
  {
   "cell_type": "markdown",
   "metadata": {},
   "source": [
    "**22) \n",
    "Sample Input 1:\n",
    "2\n",
    "7\n",
    "Sample Output 1:\n",
    "2 + 7 = 9\n",
    "2 - 7 = -5\n",
    "2 * 7 = 14\n",
    "\n",
    "Sample Input 2:\n",
    "5\n",
    "8\n",
    "Sample Output 2:\n",
    "5 + 8 = 13\n",
    "5 - 8 = -3\n",
    "5 * 8 = 40"
   ]
  },
  {
   "cell_type": "markdown",
   "metadata": {},
   "source": [
    "**23)\n",
    "Sample Input 1:\n",
    "20\n",
    "Sample Output 1:\n",
    "The next number after 20 is: 21\n",
    "For the number 20 the previous number is: 19\n",
    "Sample Input 2:\n",
    "    \n",
    "0\n",
    "Sample Output 2:\n",
    "The next number after 0 is: 1\n",
    "For number 0 the previous number is: -1"
   ]
  },
  {
   "cell_type": "markdown",
   "metadata": {},
   "source": [
    "**24) \n",
    "n schoolchildren divide k tangerines equally, the undivided remainder remains in the basket. How many whole tangerines will each schoolchild get? How many whole tangerines will remain in the basket?\n",
    "\n",
    "Input format\n",
    "The program is given two integers as input: the number of schoolchildren and the number of tangerines, each on a separate line.\n",
    "\n",
    "Output format\n",
    "The program should print two numbers: the number of tangerines that each student will get, and the number of tangerines that will remain in the basket, each on a separate line."
   ]
  },
  {
   "cell_type": "markdown",
   "metadata": {},
   "source": [
    "**25)\n",
    "Write a program that calculates the sum and product of the digits of a positive three-digit number.\n",
    "\n",
    "Sample Input 1:\n",
    "123\n",
    "Sample Output 1:\n",
    "Sum of digits = 6\n",
    "Product of digits = 6\n",
    "\n",
    "Sample Input 2:\n",
    "333\n",
    "Sample Output 2:\n",
    "Sum of digits = 9\n",
    "Product of digits = 27"
   ]
  }
 ],
 "metadata": {
  "kernelspec": {
   "display_name": "Python 3 (ipykernel)",
   "language": "python",
   "name": "python3"
  },
  "language_info": {
   "codemirror_mode": {
    "name": "ipython",
    "version": 3
   },
   "file_extension": ".py",
   "mimetype": "text/x-python",
   "name": "python",
   "nbconvert_exporter": "python",
   "pygments_lexer": "ipython3",
   "version": "3.10.9"
  }
 },
 "nbformat": 4,
 "nbformat_minor": 2
}
